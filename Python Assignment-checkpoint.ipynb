{
 "cells": [
  {
   "cell_type": "markdown",
   "metadata": {},
   "source": [
    "# Python Assignment\n"
   ]
  },
  {
   "cell_type": "markdown",
   "metadata": {},
   "source": [
    "# 1. Convert Rollnumber 1940010 to binary format"
   ]
  },
  {
   "cell_type": "code",
   "execution_count": 21,
   "metadata": {},
   "outputs": [
    {
     "name": "stdout",
     "output_type": "stream",
     "text": [
      "010101000101100110111"
     ]
    }
   ],
   "source": [
    "def Dectobin(number):\n",
    "    if number > 1:\n",
    "        \n",
    "        print( number % 2, end = '')\n",
    "        Dectobin(number // 2)\n",
    "    else:\n",
    "        print(number, end = '')\n",
    "if __name__ == '__main__':\n",
    "\n",
    "    rollnumber = 1940010\n",
    "\n",
    "    Dectobin(rollnumber)"
   ]
  },
  {
   "cell_type": "markdown",
   "metadata": {},
   "source": [
    "# 1.1 Convert any number to binary format"
   ]
  },
  {
   "cell_type": "code",
   "execution_count": 19,
   "metadata": {},
   "outputs": [
    {
     "name": "stdout",
     "output_type": "stream",
     "text": [
      "Entr a number1940010\n",
      "010101000101100110111"
     ]
    }
   ],
   "source": [
    "def Dectobin(number):\n",
    "    if number > 1:\n",
    "        \n",
    "        print( number % 2, end = '')\n",
    "        Dectobin(number // 2)\n",
    "    else:\n",
    "        print(number, end = '')\n",
    "if __name__ == '__main__':\n",
    "\n",
    "    try:\n",
    "        n = float(input('Entr a number'))\n",
    "        if not n.is_integer() or n < 0:\n",
    "            print('The number should be a positive integer')\n",
    "        else:\n",
    "            Dectobin(int(n))\n",
    "    except ValueError:\n",
    "        print('You entered invalid input')"
   ]
  },
  {
   "cell_type": "markdown",
   "metadata": {},
   "source": [
    "# 2 complex number"
   ]
  },
  {
   "cell_type": "code",
   "execution_count": 7,
   "metadata": {},
   "outputs": [
    {
     "name": "stdout",
     "output_type": "stream",
     "text": [
      "Multiplication = (29+0j)\n",
      "Real Part = 29.0\n",
      "Imaginary Part = 0.0\n",
      "Real part multiplication = 29\n",
      "Imaginary part multiplication = 0\n"
     ]
    }
   ],
   "source": [
    "c1 = 2 + 5j\n",
    "c2 = 2 - 5j\n",
    "c3 = c1 * c2\n",
    "print('Multiplication =', c3)\n",
    "print('Real Part =', c3.real)\n",
    "print('Imaginary Part =', c3.imag)\n",
    "R1 = 2\n",
    "I1 = 5\n",
    "R2 = 2\n",
    "I2 = -5\n",
    "print ('Real part multiplication =', ((R1*R2)-(I1*I2)))\n",
    "print ('Imaginary part multiplication =', ((R1*I2) + (R2*I1)))"
   ]
  },
  {
   "cell_type": "code",
   "execution_count": null,
   "metadata": {},
   "outputs": [],
   "source": []
  },
  {
   "cell_type": "markdown",
   "metadata": {},
   "source": [
    "# 3 Multiplication"
   ]
  },
  {
   "cell_type": "code",
   "execution_count": 3,
   "metadata": {},
   "outputs": [],
   "source": [
    "                       "
   ]
  },
  {
   "cell_type": "code",
   "execution_count": 8,
   "metadata": {},
   "outputs": [
    {
     "name": "stdout",
     "output_type": "stream",
     "text": [
      "Entr a number13\n",
      "Entr the number of multiples: 10\n",
      "13.0 x 1 = 13.0\n",
      "13.0 x 2 = 26.0\n",
      "13.0 x 3 = 39.0\n",
      "13.0 x 4 = 52.0\n",
      "13.0 x 5 = 65.0\n",
      "13.0 x 6 = 78.0\n",
      "13.0 x 7 = 91.0\n",
      "13.0 x 8 = 104.0\n",
      "13.0 x 9 = 117.0\n",
      "13.0 x 10 = 130.0\n"
     ]
    }
   ],
   "source": [
    "def multi_table(a, n):\n",
    "    i=1\n",
    "    while n >= 1:\n",
    "        print('{0} x {1} = {2}'.format(a, i, a*i))\n",
    "        n= n-1\n",
    "        i=i+1\n",
    "        \n",
    "        \n",
    "if __name__ == '__main__':\n",
    "    try:\n",
    "        a = float(input('Entr a number'))\n",
    "        n = float(input('Entr the number of multiples: '))\n",
    "        if not n.is_integer() or n < 0:\n",
    "            print('The number of multiples should be a positive integer')\n",
    "        else:\n",
    "            multi_table(a, int(n))\n",
    "    except ValueError:\n",
    "        print('You entered invalid input')\n"
   ]
  },
  {
   "cell_type": "markdown",
   "metadata": {},
   "source": [
    "# 3.1 Multiplication table 12"
   ]
  },
  {
   "cell_type": "code",
   "execution_count": 9,
   "metadata": {},
   "outputs": [
    {
     "name": "stdout",
     "output_type": "stream",
     "text": [
      "12 x 1 = 12\n",
      "12 x 2 = 24\n",
      "12 x 3 = 36\n",
      "12 x 4 = 48\n",
      "12 x 5 = 60\n",
      "12 x 6 = 72\n",
      "12 x 7 = 84\n",
      "12 x 8 = 96\n",
      "12 x 9 = 108\n",
      "12 x 10 = 120\n"
     ]
    }
   ],
   "source": [
    "def multi_table(a, n):\n",
    "    i=1\n",
    "    while n >= 1:\n",
    "        print('{0} x {1} = {2}'.format(a, i, a*i))\n",
    "        n=n-1\n",
    "        i=i+1\n",
    "        \n",
    "        \n",
    "if __name__ == '__main__':\n",
    "    \n",
    "        a = 12\n",
    "        n = 10\n",
    "        multi_table(a, int(n))\n",
    "    "
   ]
  },
  {
   "cell_type": "markdown",
   "metadata": {},
   "source": [
    "# 4 Adding Machine"
   ]
  },
  {
   "cell_type": "code",
   "execution_count": null,
   "metadata": {},
   "outputs": [
    {
     "name": "stdout",
     "output_type": "stream",
     "text": [
      "Enter a number: 4\n",
      "Total addition of numbers entered is  4.0\n",
      "do you want to exit? (0) for yes5\n",
      "Enter a number: 5\n",
      "Total addition of numbers entered is  9.0\n",
      "do you want to exit? (0) for yest\n",
      "Enter a number: 7\n",
      "Total addition of numbers entered is  16.0\n",
      "do you want to exit? (0) for yest\n",
      "Enter a number: 8\n",
      "Total addition of numbers entered is  24.0\n"
     ]
    }
   ],
   "source": [
    "c = 0\n",
    "while True:\n",
    "    a = input('Enter a number: ')\n",
    "    b = float(a)+c\n",
    "    c = b\n",
    "    print ('Total addition of numbers entered is ', c)\n",
    "    answer = input('do you want to exit? (0) for yes')\n",
    "    if answer == '0':\n",
    "        break"
   ]
  },
  {
   "cell_type": "markdown",
   "metadata": {},
   "source": [
    "# 5 Print 20 times \"I will not talk in class\""
   ]
  },
  {
   "cell_type": "code",
   "execution_count": 1,
   "metadata": {},
   "outputs": [
    {
     "name": "stdout",
     "output_type": "stream",
     "text": [
      "I will not talk in the class\n",
      "I will not talk in the class\n",
      "I will not talk in the class\n",
      "I will not talk in the class\n",
      "I will not talk in the class\n",
      "I will not talk in the class\n",
      "I will not talk in the class\n",
      "I will not talk in the class\n",
      "I will not talk in the class\n",
      "I will not talk in the class\n",
      "I will not talk in the class\n",
      "I will not talk in the class\n",
      "I will not talk in the class\n",
      "I will not talk in the class\n",
      "I will not talk in the class\n",
      "I will not talk in the class\n",
      "I will not talk in the class\n",
      "I will not talk in the class\n",
      "I will not talk in the class\n",
      "I will not talk in the class\n"
     ]
    }
   ],
   "source": [
    "i=20\n",
    "m = 'I will not talk in the class'\n",
    "while i >=1:\n",
    "    print (m)\n",
    "    i = i-1\n",
    "    \n"
   ]
  },
  {
   "cell_type": "markdown",
   "metadata": {},
   "source": [
    "# 6. Calculate the area of Circle"
   ]
  },
  {
   "cell_type": "code",
   "execution_count": 14,
   "metadata": {},
   "outputs": [
    {
     "name": "stdout",
     "output_type": "stream",
     "text": [
      "enter the radius of the circle5\n",
      "area of the circle is 78.53975\n"
     ]
    }
   ],
   "source": [
    "pi = 3.14159\n",
    "r= float(input('enter the radius of the circle'))\n",
    "print ('area of the circle is', pi*r*r)"
   ]
  },
  {
   "cell_type": "markdown",
   "metadata": {},
   "source": [
    "# 7. Fahrenheit to Celcius"
   ]
  },
  {
   "cell_type": "code",
   "execution_count": 3,
   "metadata": {},
   "outputs": [
    {
     "name": "stdout",
     "output_type": "stream",
     "text": [
      "enter temperature in fahrenheit: 100\n",
      "Temperature in celsius: 37.77777777777778\n"
     ]
    }
   ],
   "source": [
    "def fahren_cel():\n",
    "    fahrenheit = float(input('enter temperature in fahrenheit: '))\n",
    "    celsius = (fahrenheit -32)*(5/9)\n",
    "        \n",
    "    print('Temperature in celsius: {0}'.format(celsius))\n",
    "    \n",
    "    \n",
    "if __name__ == '__main__':\n",
    "       \n",
    "        fahren_cel()\n",
    "        "
   ]
  },
  {
   "cell_type": "markdown",
   "metadata": {},
   "source": [
    "# 8. Power of 2 upto 1024 - 2 line of code using for loop"
   ]
  },
  {
   "cell_type": "code",
   "execution_count": 8,
   "metadata": {},
   "outputs": [
    {
     "name": "stdout",
     "output_type": "stream",
     "text": [
      "2\n",
      "4\n",
      "8\n",
      "16\n",
      "32\n",
      "64\n",
      "128\n",
      "256\n",
      "512\n",
      "1024\n"
     ]
    }
   ],
   "source": [
    "for i in range (1, 11):\n",
    "    print ( 2**i)"
   ]
  },
  {
   "cell_type": "markdown",
   "metadata": {},
   "source": [
    "# 9. NY Temperature Graph"
   ]
  },
  {
   "cell_type": "code",
   "execution_count": 14,
   "metadata": {},
   "outputs": [
    {
     "data": {
      "image/png": "[encoded data removed]",
      "text/plain": [
       "<Figure size 432x288 with 1 Axes>"
      ]
     },
     "metadata": {
      "needs_background": "light"
     },
     "output_type": "display_data"
    }
   ],
   "source": [
    "NY_Temp_21stOct2019 = [12, 13, 12, 16, 19, 19, 15, 13]\n",
    "Time = [2, 5, 8, 11, 14, 17, 20, 23]\n",
    "from pylab import legend, plot, show, xlabel, ylabel, title, axis\n",
    "plot(Time, NY_Temp_21stOct2019)\n",
    "axis(ymin=0)\n",
    "(0, 40, 0, 20)\n",
    "title('average temperatue in New York City on 21st October 2019')\n",
    "xlabel('Time')\n",
    "ylabel('Temperature')\n",
    "show()\n"
   ]
  },
  {
   "cell_type": "markdown",
   "metadata": {},
   "source": [
    "# 10 Prime numbers below n"
   ]
  },
  {
   "cell_type": "code",
   "execution_count": 33,
   "metadata": {},
   "outputs": [
    {
     "name": "stdout",
     "output_type": "stream",
     "text": [
      "Enter a number: 7\n",
      "2 3 5 7 "
     ]
    }
   ],
   "source": [
    "# function to check if the number is  \n",
    "# prime or not  \n",
    "def isPrime(n) : \n",
    "    # Corner cases \n",
    "    if (n <= 1) : \n",
    "        return False\n",
    "    if (n <= 3) : \n",
    "        return True\n",
    "   \n",
    "    # This is checked so that we can skip  \n",
    "    # middle five numbers in below loop \n",
    "    if (n % 2 == 0 or n % 3 == 0) : \n",
    "        return False\n",
    "   \n",
    "    i = 5\n",
    "    while(i * i <= n) : \n",
    "        if (n % i == 0 or n % (i + 2) == 0) : \n",
    "            return False\n",
    "        i = i + 6\n",
    "   \n",
    "    return True \n",
    "  \n",
    "# print all prime numbers  \n",
    "# less than equal to N  \n",
    "def printPrime(n): \n",
    "    for i in range(2, n + 1): \n",
    "        if isPrime(i): \n",
    "            print (i, end =\" \")  \n",
    "            \n",
    "if __name__ == '__main__':\n",
    "    n = input('Enter a number: ')\n",
    "    if (int(n) <= 1) : \n",
    "        print(\"enter the numner above or equal to 2\")\n",
    "    printPrime(int(n))"
   ]
  },
  {
   "cell_type": "markdown",
   "metadata": {},
   "source": [
    "# 11. GCD of two numbers"
   ]
  },
  {
   "cell_type": "code",
   "execution_count": 49,
   "metadata": {},
   "outputs": [
    {
     "name": "stdout",
     "output_type": "stream",
     "text": [
      "Enter first number: 75\n",
      "Enter second number: 84\n",
      "The GCD of 75 and 84 is 3\n"
     ]
    }
   ],
   "source": [
    "# Python program to find the GCD of two input number\n",
    "\n",
    "# define a function\n",
    "def computeGCD(x, y):\n",
    "\n",
    "# choose the smaller number\n",
    "    if x > y:\n",
    "        smaller = y\n",
    "    else:\n",
    "        smaller = x\n",
    "    for i in range(1, smaller+1):\n",
    "        if((x % i == 0) and (y % i == 0)):\n",
    "            gcd = i\n",
    "            \n",
    "    return gcd\n",
    "\n",
    "if __name__ == '__main__':\n",
    "\n",
    "    num1 = int(input(\"Enter first number: \"))\n",
    "    if (num1 == 0):\n",
    "        print(\"enter number other than 0\")\n",
    "    else:    \n",
    "        num2 = int(input(\"Enter second number: \"))\n",
    "        if (num2 == 0):\n",
    "            print(\"enter number other than 0\")\n",
    "        else:\n",
    "            print(\"The GCD of\", num1,\"and\", num2,\"is\", computeGCD(num1, num2))"
   ]
  },
  {
   "cell_type": "markdown",
   "metadata": {},
   "source": [
    "# 12. NetworkX package"
   ]
  },
  {
   "cell_type": "code",
   "execution_count": 53,
   "metadata": {},
   "outputs": [
    {
     "name": "stdout",
     "output_type": "stream",
     "text": [
      "Nodes of graph: \n",
      "['a', 'b', 'c', 1, 2, 'd', 'e']\n",
      "Edges of graph: \n",
      "[('a', 'b'), (1, 2), ('d', 'e')]\n"
     ]
    },
    {
     "data": {
      "image/png": "[encoded data removed]",
      "text/plain": [
       "<Figure size 432x288 with 1 Axes>"
      ]
     },
     "metadata": {},
     "output_type": "display_data"
    }
   ],
   "source": [
    "import networkx as nx\n",
    "\n",
    "G=nx.Graph()\n",
    "G.add_node(\"a\")\n",
    "G.add_nodes_from([\"b\",\"c\"])\n",
    "\n",
    "G.add_edge(1,2)\n",
    "edge = (\"d\", \"e\")\n",
    "G.add_edge(*edge)\n",
    "edge = (\"a\", \"b\")\n",
    "G.add_edge(*edge)\n",
    "\n",
    "print(\"Nodes of graph: \")\n",
    "print(G.nodes())\n",
    "print(\"Edges of graph: \")\n",
    "print(G.edges())\n",
    "\n",
    "# adding a list of edges:\n",
    "G.add_edges_from([(\"a\",\"c\"),(\"c\",\"d\"), (\"a\",1), (1,\"d\"), (\"a\",2)])\n",
    "\n",
    "nx.draw(G)\n"
   ]
  },
  {
   "cell_type": "code",
   "execution_count": null,
   "metadata": {},
   "outputs": [],
   "source": []
  }
 ],
 "metadata": {
  "kernelspec": {
   "display_name": "Python 3",
   "language": "python",
   "name": "python3"
  },
  "language_info": {
   "codemirror_mode": {
    "name": "ipython",
    "version": 3
   },
   "file_extension": ".py",
   "mimetype": "text/x-python",
   "name": "python",
   "nbconvert_exporter": "python",
   "pygments_lexer": "ipython3",
   "version": "3.7.0"
  }
 },
 "nbformat": 4,
 "nbformat_minor": 2
}
