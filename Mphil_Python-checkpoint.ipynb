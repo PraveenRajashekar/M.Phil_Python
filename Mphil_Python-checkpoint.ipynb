{
 "cells": [
  {
   "cell_type": "code",
   "execution_count": null,
   "metadata": {},
   "outputs": [],
   "source": [
    "def multi_table(a):\n",
    "    for i in range(1,3):\n",
    "        print('{0} x {1} = {2}'.format(a, i, a*i))\n",
    "        \n",
    "if __name__ == ' __main__':\n",
    "    a = input('Enter a number:')\n",
    "    multi_table(float(a))"
   ]
  },
  {
   "cell_type": "code",
   "execution_count": null,
   "metadata": {},
   "outputs": [],
   "source": [
    "'{0: .2f}'.format(1.2656)"
   ]
  },
  {
   "cell_type": "code",
   "execution_count": null,
   "metadata": {},
   "outputs": [],
   "source": [
    "x = 10 -500 + 79\n",
    "x"
   ]
  },
  {
   "cell_type": "code",
   "execution_count": null,
   "metadata": {},
   "outputs": [],
   "source": [
    "def roots(a, b, c):\n",
    "    \n",
    "    D = (b*b - 4*a*c)**0.5\n",
    "    X_1 = (-b + D)/(2*a)\n",
    "    X_2 = (-b - D)/(2*a)\n",
    "    \n",
    "    print('x1: {0: 2f}'.format(X_1))\n",
    "    print('x2: {0: 2f}'.format(X_2))\n",
    "    \n",
    "if __name__ == '__main__':\n",
    "    \n",
    "    a = input('Enter a: ')\n",
    "    b = input('Enter b: ')\n",
    "    c = input('enter c: ')\n",
    "    roots(float(a), float(b), float(c))"
   ]
  },
  {
   "cell_type": "code",
   "execution_count": null,
   "metadata": {},
   "outputs": [],
   "source": [
    "2.54/100"
   ]
  },
  {
   "cell_type": "code",
   "execution_count": null,
   "metadata": {},
   "outputs": [],
   "source": [
    "def print_menu():\n",
    "    print('1: Kilometres to Miles')\n",
    "    print('2: Miles to Kilometres')\n",
    "    \n",
    "def km_miles():\n",
    "    km = float(input('enter distance in Kilometres: '))\n",
    "    miles = km/1.609\n",
    "    \n",
    "    print('Distance in miles: {0}'.format(miles))\n",
    "    \n",
    "def miles_km():\n",
    "    miles = float(input('enter distance in miles: '))\n",
    "    km = miles *1.609\n",
    "    \n",
    "    print('Distance in km: {0}'.format(km))\n",
    "    \n",
    "if __name__ == '__main__':\n",
    "    print_menu()\n",
    "    choice = input('which conversion you like to do?: ')\n",
    "    if choice == '1':\n",
    "        km_miles()\n",
    "        \n",
    "    if choice == '2':\n",
    "        miles_km()"
   ]
  },
  {
   "cell_type": "code",
   "execution_count": null,
   "metadata": {},
   "outputs": [],
   "source": [
    "def print_menu():\n",
    "    print('1: Kilometres to Miles')\n",
    "    print('2: Miles to Kilometres')\n",
    "    print('3: Kilograms to Pounds')\n",
    "    print('4: Pounds to Kilograms') \n",
    "    print('5: Celsius to Fahrenheit')\n",
    "    print('6: Fahrenheit to Celsius')\n",
    "    \n",
    "def km_miles():\n",
    "    km = float(input('enter distance in Kilometres: '))\n",
    "    miles = km/1.609\n",
    "    \n",
    "    print('Distance in miles: {0}'.format(miles))\n",
    "    \n",
    "def miles_km():\n",
    "    miles = float(input('enter distance in miles: '))\n",
    "    km = miles *1.609\n",
    "    \n",
    "    print('Distance in km: {0}'.format(km))\n",
    "    \n",
    "def kg_pounds():\n",
    "    kg = float(input('enter weight in kgs: '))\n",
    "    pounds = kg * 2.205\n",
    "    \n",
    "    print('weight in ponds: {0}'.format(pounds))\n",
    "\n",
    "def pounds_kg():\n",
    "    pounds = float(input('enter weight in pounds: '))\n",
    "    kg = pounds/2.205\n",
    "    \n",
    "    print('weight in kg: {0}'.format(kg))\n",
    "    \n",
    "def cel_fahren():\n",
    "    celsius = float(input('enter temperature in celsius: '))\n",
    "    fahrenheit = celsius*(9/5) + 32\n",
    "    \n",
    "    print('Temperature in fahrenheit: {0}'.format(fahrenheit))\n",
    "    \n",
    "    \n",
    "def fahren_cel():\n",
    "    fahrenheit = float(input('enter temperature in fahrenheit: '))\n",
    "    celsius = (fahrenheit -32)*(5/9)\n",
    "        \n",
    "    print('Temperature in celsius: {0}'.format(celsius))\n",
    "    \n",
    "    \n",
    "if __name__ == '__main__':\n",
    "    print_menu()\n",
    "    choice = input('which conversion you like to do?: ')\n",
    "    if choice == '1':\n",
    "        km_miles()\n",
    "        \n",
    "    if choice == '2':\n",
    "        miles_km()\n",
    "        \n",
    "    if choice == '3':\n",
    "        kg_pounds()\n",
    "        \n",
    "    if choice == '4':\n",
    "        pounds_kg()\n",
    "        \n",
    "    if choice == '5':\n",
    "        cel_fahren()\n",
    "        \n",
    "    if choice == '6':\n",
    "        fahren_cel()\n",
    "        "
   ]
  },
  {
   "cell_type": "markdown",
   "metadata": {},
   "source": [
    "\n"
   ]
  },
  {
   "cell_type": "markdown",
   "metadata": {},
   "source": [
    "EVEN ODD VENDING MACHINE"
   ]
  },
  {
   "cell_type": "code",
   "execution_count": null,
   "metadata": {},
   "outputs": [],
   "source": [
    "x=1\n",
    "while x <= 10:\n",
    "    print('multiples of 8: {0}'.format(x*8))\n",
    "    x= x + 1"
   ]
  },
  {
   "cell_type": "code",
   "execution_count": null,
   "metadata": {},
   "outputs": [],
   "source": [
    "x=1\n",
    "while x <= 10:\n",
    "    print(x*8)\n",
    "    x= x + 1"
   ]
  },
  {
   "cell_type": "code",
   "execution_count": null,
   "metadata": {},
   "outputs": [],
   "source": [
    "def even_odd_vending(num):\n",
    "    if (num % 2) == 0:\n",
    "        print('even')\n",
    "    else:\n",
    "        print('odd')\n",
    "    count = 1\n",
    "    while count <= 9:\n",
    "        num +=2\n",
    "        print(num)\n",
    "        \n",
    "        count +=1\n",
    "        \n",
    "        \n",
    "if __name__ == '__main__':\n",
    "    try:\n",
    "        num = float(input('Entr an integer'))\n",
    "        if num.is_integer():\n",
    "            even_odd_vending(int(num))\n",
    "        else:\n",
    "            print('please enter an integer')\n",
    "    except ValueError:\n",
    "        print('Please enter a number')"
   ]
  },
  {
   "cell_type": "code",
   "execution_count": null,
   "metadata": {},
   "outputs": [],
   "source": [
    "def multi_table(a, n):\n",
    "    for i in range(1, n+1):\n",
    "        print('{0} x {1} = {2}'.format(a, i, a*i))\n",
    "           \n",
    "        \n",
    "if __name__ == '__main__':\n",
    "    try:\n",
    "        a = float(input('Entr a number'))\n",
    "        n = float(input('Entr the number of multiples: '))\n",
    "        if not n.is_integer() or n < 0:\n",
    "            print('The number of multiples should be a positive integer')\n",
    "        else:\n",
    "            multi_table(a, int(n))\n",
    "    except ValueError:\n",
    "        print('You entered invalid input')"
   ]
  },
  {
   "cell_type": "code",
   "execution_count": null,
   "metadata": {},
   "outputs": [],
   "source": [
    "from fractions import Fraction\n",
    "def add(a, b):\n",
    "    print('Result of adding {0} and {1} is {2}'.format(a, b, a+b))\n",
    "    \n",
    "def subtract(a, b):\n",
    "    print('Result of subtracting {0} and {1} is {2}'.format(a, b, a-b))\n",
    "    \n",
    "def divide(a, b):\n",
    "    print('Result of dividing {0} and {1} is {2}'.format(a, b, a/b))\n",
    "\n",
    "def multiply(a, b):\n",
    "    print('Result of multiplying {0} and {1} is {2}'.format(a, b, a*b))\n",
    "    \n",
    "    \n",
    "if __name__ == '__main__':\n",
    "    try:\n",
    "        a = Fraction(input('Enter first fraction: '))\n",
    "        b = Fraction(input('Enter second fraction: '))\n",
    "        op = input('Operation to perform - Add, Subtract, Divide, Multiply: ')\n",
    "        if op == 'Add':\n",
    "            add(a, b)\n",
    "        if op == 'Subtract':\n",
    "            subtract(a, b)\n",
    "        if op == 'Divide':\n",
    "            divide(a,b)\n",
    "        if op == 'Multiply':\n",
    "            multiply(a, b)\n",
    "            \n",
    "    except ValueError:\n",
    "        print('Invalid fraction enteres')\n"
   ]
  },
  {
   "cell_type": "code",
   "execution_count": null,
   "metadata": {},
   "outputs": [],
   "source": [
    "def fun():\n",
    "    print('Im an endless loop')\n",
    "    \n",
    "if __name__ == '__main__':\n",
    "    while True:\n",
    "        fun()\n",
    "        answer = input('do you want to exit  (y) for yes')\n",
    "        if answer == 'y':\n",
    "            break"
   ]
  },
  {
   "cell_type": "code",
   "execution_count": 7,
   "metadata": {},
   "outputs": [],
   "source": [
    "def multi_table(a):\n",
    "    for i in range(1, 15):\n",
    "        print('{0} x {1} = {2}'.format(a, i, a*i))\n",
    "        \n",
    "    if __name__ == '__main__':\n",
    "        \n",
    "        while True:\n",
    "            a = input('Enter a number: ')\n",
    "            multi_table(float(a))\n",
    "            \n",
    "            answer = input('do you want to exit? (y) for yes')\n",
    "            if answer == 'y':\n",
    "                break"
   ]
  },
  {
   "cell_type": "code",
   "execution_count": 5,
   "metadata": {},
   "outputs": [
    {
     "ename": "NameError",
     "evalue": "name 'y' is not defined",
     "output_type": "error",
     "traceback": [
      "\u001b[1;31m---------------------------------------------------------------------------\u001b[0m",
      "\u001b[1;31mNameError\u001b[0m                                 Traceback (most recent call last)",
      "\u001b[1;32m<ipython-input-5-9063a9f0e032>\u001b[0m in \u001b[0;36m<module>\u001b[1;34m()\u001b[0m\n\u001b[1;32m----> 1\u001b[1;33m \u001b[0my\u001b[0m\u001b[1;33m\u001b[0m\u001b[0m\n\u001b[0m",
      "\u001b[1;31mNameError\u001b[0m: name 'y' is not defined"
     ]
    }
   ],
   "source": [
    "y\n"
   ]
  },
  {
   "cell_type": "code",
   "execution_count": 1,
   "metadata": {},
   "outputs": [],
   "source": [
    "simplelist=[1,2,3,4,5,6]"
   ]
  },
  {
   "cell_type": "code",
   "execution_count": 2,
   "metadata": {},
   "outputs": [
    {
     "data": {
      "text/plain": [
       "1"
      ]
     },
     "execution_count": 2,
     "metadata": {},
     "output_type": "execute_result"
    }
   ],
   "source": [
    "simplelist[0]\n",
    "\n"
   ]
  },
  {
   "cell_type": "code",
   "execution_count": 3,
   "metadata": {},
   "outputs": [
    {
     "ename": "IndexError",
     "evalue": "list index out of range",
     "output_type": "error",
     "traceback": [
      "\u001b[1;31m---------------------------------------------------------------------------\u001b[0m",
      "\u001b[1;31mIndexError\u001b[0m                                Traceback (most recent call last)",
      "\u001b[1;32m<ipython-input-3-ec5cc5feedf8>\u001b[0m in \u001b[0;36m<module>\u001b[1;34m()\u001b[0m\n\u001b[1;32m----> 1\u001b[1;33m \u001b[0msimplelist\u001b[0m\u001b[1;33m[\u001b[0m\u001b[1;36m6\u001b[0m\u001b[1;33m]\u001b[0m\u001b[1;33m\u001b[0m\u001b[0m\n\u001b[0m",
      "\u001b[1;31mIndexError\u001b[0m: list index out of range"
     ]
    }
   ],
   "source": [
    "simplelist[6]"
   ]
  },
  {
   "cell_type": "code",
   "execution_count": 9,
   "metadata": {},
   "outputs": [],
   "source": [
    "def multi_table(a):\n",
    "    for i in range(1, 15):\n",
    "        print('{0} x {1} = {2}'.format(a, i, a*i))\n",
    "        \n",
    "    if __name__ == '__main__':\n",
    "        \n",
    "        while True:\n",
    "            a = input('Enter a number: ')\n",
    "            multi_table(float(a))\n",
    "            \n",
    "            answer = input('do you want to exit? (y) for yes')\n",
    "            if answer == 'y':\n",
    "                break"
   ]
  },
  {
   "cell_type": "code",
   "execution_count": 10,
   "metadata": {},
   "outputs": [
    {
     "ename": "NameError",
     "evalue": "name 'y' is not defined",
     "output_type": "error",
     "traceback": [
      "\u001b[1;31m---------------------------------------------------------------------------\u001b[0m",
      "\u001b[1;31mNameError\u001b[0m                                 Traceback (most recent call last)",
      "\u001b[1;32m<ipython-input-10-9063a9f0e032>\u001b[0m in \u001b[0;36m<module>\u001b[1;34m()\u001b[0m\n\u001b[1;32m----> 1\u001b[1;33m \u001b[0my\u001b[0m\u001b[1;33m\u001b[0m\u001b[0m\n\u001b[0m",
      "\u001b[1;31mNameError\u001b[0m: name 'y' is not defined"
     ]
    }
   ],
   "source": [
    "y\n"
   ]
  },
  {
   "cell_type": "code",
   "execution_count": 12,
   "metadata": {},
   "outputs": [
    {
     "data": {
      "text/plain": [
       "['amir', 'salman', 'shahrukh', 'hrithik']"
      ]
     },
     "execution_count": 12,
     "metadata": {},
     "output_type": "execute_result"
    }
   ],
   "source": [
    "stringlist = ['amir', 'salman', 'shahrukh', 'hrithik']\n",
    "stringlist"
   ]
  },
  {
   "cell_type": "code",
   "execution_count": 13,
   "metadata": {},
   "outputs": [
    {
     "data": {
      "text/plain": [
       "'shahrukh'"
      ]
     },
     "execution_count": 13,
     "metadata": {},
     "output_type": "execute_result"
    }
   ],
   "source": [
    "stringlist[2]"
   ]
  },
  {
   "cell_type": "code",
   "execution_count": 14,
   "metadata": {},
   "outputs": [],
   "source": [
    "emptylist=[]"
   ]
  },
  {
   "cell_type": "code",
   "execution_count": 15,
   "metadata": {},
   "outputs": [],
   "source": [
    "emptylist.append('Ajay')"
   ]
  },
  {
   "cell_type": "code",
   "execution_count": 16,
   "metadata": {},
   "outputs": [
    {
     "data": {
      "text/plain": [
       "['Ajay']"
      ]
     },
     "execution_count": 16,
     "metadata": {},
     "output_type": "execute_result"
    }
   ],
   "source": [
    "emptylist"
   ]
  },
  {
   "cell_type": "code",
   "execution_count": 17,
   "metadata": {},
   "outputs": [],
   "source": [
    "emptylist.append('Ranbir')"
   ]
  },
  {
   "cell_type": "code",
   "execution_count": 18,
   "metadata": {},
   "outputs": [
    {
     "data": {
      "text/plain": [
       "['Ajay', 'Ranbir']"
      ]
     },
     "execution_count": 18,
     "metadata": {},
     "output_type": "execute_result"
    }
   ],
   "source": [
    "emptylist"
   ]
  },
  {
   "cell_type": "code",
   "execution_count": 19,
   "metadata": {},
   "outputs": [],
   "source": [
    "emptyl=[]"
   ]
  },
  {
   "cell_type": "code",
   "execution_count": 20,
   "metadata": {},
   "outputs": [],
   "source": [
    "emptyl.append('5')"
   ]
  },
  {
   "cell_type": "code",
   "execution_count": 21,
   "metadata": {},
   "outputs": [
    {
     "data": {
      "text/plain": [
       "['5']"
      ]
     },
     "execution_count": 21,
     "metadata": {},
     "output_type": "execute_result"
    }
   ],
   "source": [
    "emptyl\n"
   ]
  },
  {
   "cell_type": "code",
   "execution_count": 22,
   "metadata": {},
   "outputs": [],
   "source": [
    "Tuple = [1, 4, 5]"
   ]
  },
  {
   "cell_type": "code",
   "execution_count": 23,
   "metadata": {},
   "outputs": [
    {
     "data": {
      "text/plain": [
       "[1, 4, 5]"
      ]
     },
     "execution_count": 23,
     "metadata": {},
     "output_type": "execute_result"
    }
   ],
   "source": [
    "Tuple"
   ]
  },
  {
   "cell_type": "code",
   "execution_count": 24,
   "metadata": {},
   "outputs": [],
   "source": [
    "Tuple.append(8)"
   ]
  },
  {
   "cell_type": "code",
   "execution_count": 25,
   "metadata": {},
   "outputs": [
    {
     "data": {
      "text/plain": [
       "[1, 4, 5, 8]"
      ]
     },
     "execution_count": 25,
     "metadata": {},
     "output_type": "execute_result"
    }
   ],
   "source": [
    "Tuple\n"
   ]
  },
  {
   "cell_type": "code",
   "execution_count": 26,
   "metadata": {},
   "outputs": [],
   "source": [
    "tuple = (1,2,3)"
   ]
  },
  {
   "cell_type": "code",
   "execution_count": 27,
   "metadata": {},
   "outputs": [
    {
     "data": {
      "text/plain": [
       "(1, 2, 3)"
      ]
     },
     "execution_count": 27,
     "metadata": {},
     "output_type": "execute_result"
    }
   ],
   "source": [
    "tuple"
   ]
  },
  {
   "cell_type": "code",
   "execution_count": 28,
   "metadata": {},
   "outputs": [
    {
     "ename": "AttributeError",
     "evalue": "'tuple' object has no attribute 'append'",
     "output_type": "error",
     "traceback": [
      "\u001b[1;31m---------------------------------------------------------------------------\u001b[0m",
      "\u001b[1;31mAttributeError\u001b[0m                            Traceback (most recent call last)",
      "\u001b[1;32m<ipython-input-28-2958743b6527>\u001b[0m in \u001b[0;36m<module>\u001b[1;34m()\u001b[0m\n\u001b[1;32m----> 1\u001b[1;33m \u001b[0mtuple\u001b[0m\u001b[1;33m.\u001b[0m\u001b[0mappend\u001b[0m\u001b[1;33m(\u001b[0m\u001b[1;36m4\u001b[0m\u001b[1;33m)\u001b[0m\u001b[1;33m\u001b[0m\u001b[0m\n\u001b[0m",
      "\u001b[1;31mAttributeError\u001b[0m: 'tuple' object has no attribute 'append'"
     ]
    }
   ],
   "source": [
    "tuple.append(4)"
   ]
  },
  {
   "cell_type": "code",
   "execution_count": 30,
   "metadata": {},
   "outputs": [],
   "source": [
    "tuple = 1,2.6]"
   ]
  },
  {
   "cell_type": "code",
   "execution_count": 31,
   "metadata": {},
   "outputs": [],
   "source": [
    "Tuple = (2, 3, 5)"
   ]
  },
  {
   "cell_type": "code",
   "execution_count": 32,
   "metadata": {},
   "outputs": [
    {
     "data": {
      "text/plain": [
       "(2, 3, 5)"
      ]
     },
     "execution_count": 32,
     "metadata": {},
     "output_type": "execute_result"
    }
   ],
   "source": [
    "Tuple"
   ]
  },
  {
   "cell_type": "code",
   "execution_count": 33,
   "metadata": {},
   "outputs": [
    {
     "ename": "AttributeError",
     "evalue": "'tuple' object has no attribute 'append'",
     "output_type": "error",
     "traceback": [
      "\u001b[1;31m---------------------------------------------------------------------------\u001b[0m",
      "\u001b[1;31mAttributeError\u001b[0m                            Traceback (most recent call last)",
      "\u001b[1;32m<ipython-input-33-7a29cd824d3d>\u001b[0m in \u001b[0;36m<module>\u001b[1;34m()\u001b[0m\n\u001b[1;32m----> 1\u001b[1;33m \u001b[0mTuple\u001b[0m\u001b[1;33m.\u001b[0m\u001b[0mappend\u001b[0m\u001b[1;33m(\u001b[0m\u001b[1;36m8\u001b[0m\u001b[1;33m)\u001b[0m\u001b[1;33m\u001b[0m\u001b[0m\n\u001b[0m",
      "\u001b[1;31mAttributeError\u001b[0m: 'tuple' object has no attribute 'append'"
     ]
    }
   ],
   "source": [
    "Tuple.append(8)"
   ]
  },
  {
   "cell_type": "code",
   "execution_count": 34,
   "metadata": {},
   "outputs": [
    {
     "name": "stdout",
     "output_type": "stream",
     "text": [
      "ajay\n",
      "2\n",
      "4\n",
      "ranbir\n"
     ]
    }
   ],
   "source": [
    "l = ['ajay', 2, 4, 'ranbir']\n",
    "for item in l:\n",
    "    print(item)"
   ]
  },
  {
   "cell_type": "code",
   "execution_count": 36,
   "metadata": {},
   "outputs": [
    {
     "name": "stdout",
     "output_type": "stream",
     "text": [
      "0 1\n",
      "1 2\n",
      "2 3\n"
     ]
    }
   ],
   "source": [
    "l = [1,2,3]\n",
    "for index, item in enumerate(l):\n",
    "    print(index, item)"
   ]
  },
  {
   "cell_type": "markdown",
   "metadata": {},
   "source": [
    "CREATING GRAPHS WITH MATPLOTLIB LIBRARY"
   ]
  },
  {
   "cell_type": "code",
   "execution_count": 53,
   "metadata": {},
   "outputs": [
    {
     "data": {
      "image/png": "[encoded data removed]",
      "text/plain": [
       "<Figure size 432x288 with 1 Axes>"
      ]
     },
     "metadata": {
      "needs_background": "light"
     },
     "output_type": "display_data"
    }
   ],
   "source": [
    "x = [1, 2, 3, 4, 5, 6]\n",
    "y= [2, 4, 6, 8, 10, 1]\n",
    "from pylab import plot, show\n",
    "plot(x, y, 'x')\n",
    "show()\n"
   ]
  },
  {
   "cell_type": "code",
   "execution_count": 57,
   "metadata": {},
   "outputs": [
    {
     "data": {
      "text/plain": [
       "[<matplotlib.lines.Line2D at 0x22adc412d68>]"
      ]
     },
     "execution_count": 57,
     "metadata": {},
     "output_type": "execute_result"
    },
    {
     "data": {
      "image/png": "[encoded data removed]",
      "text/plain": [
       "<Figure size 432x288 with 1 Axes>"
      ]
     },
     "metadata": {
      "needs_background": "light"
     },
     "output_type": "display_data"
    }
   ],
   "source": [
    "myc_temp = [53.9, 56.3, 56.4, 53.4, 54.5, 55.8, 56.8, 55.0, 55.3, 54.0, 56.7, 56.4, 57.3]\n",
    "years = range(2000, 2013)\n",
    "plot(years, myc_temp, marker='o')"
   ]
  },
  {
   "cell_type": "code",
   "execution_count": 64,
   "metadata": {},
   "outputs": [
    {
     "data": {
      "text/plain": [
       "<matplotlib.legend.Legend at 0x22adca48d30>"
      ]
     },
     "execution_count": 64,
     "metadata": {},
     "output_type": "execute_result"
    },
    {
     "data": {
      "image/png": "[encoded data removed]",
      "text/plain": [
       "<Figure size 432x288 with 1 Axes>"
      ]
     },
     "metadata": {
      "needs_background": "light"
     },
     "output_type": "display_data"
    }
   ],
   "source": [
    "nyc_temp_2000 = [31.3, 37.3, 47.2, 31.0, 63.5, 71.3, 72.3, 72.7, 66.0, 57.0, 45.3, 31.1]\n",
    "nyc_temp_2006 = [40.9, 35.7, 43.1, 55.7, 63.1, 71.0, 77.9, 75.8, 66.6, 56.2, 51.9, 43.6]\n",
    "nyc_temp_2012 = [37.3, 40.9, 50.9, 54.8, 65.1, 71.0, 78.8, 76.7, 68.8, 58.0, 43.9, 41.5]\n",
    "\n",
    "months = range(1, 13)\n",
    "plot(months, nyc_temp_2000, months, nyc_temp_2006, months, nyc_temp_2012)\n",
    "from pylab import legend\n",
    "legend([2000, 2006, 2012], bbox_to_anchor = (.7, .85))"
   ]
  },
  {
   "cell_type": "code",
   "execution_count": 67,
   "metadata": {},
   "outputs": [
    {
     "data": {
      "image/png": "[encoded data removed]",
      "text/plain": [
       "<Figure size 432x288 with 1 Axes>"
      ]
     },
     "metadata": {
      "needs_background": "light"
     },
     "output_type": "display_data"
    }
   ],
   "source": [
    "nyc_temp_2000 = [31.3, 37.3, 47.2, 31.0, 63.5, 71.3, 72.3, 72.7, 66.0, 57.0, 45.3, 31.1]\n",
    "nyc_temp_2006 = [40.9, 35.7, 43.1, 55.7, 63.1, 71.0, 77.9, 75.8, 66.6, 56.2, 51.9, 43.6]\n",
    "nyc_temp_2012 = [37.3, 40.9, 50.9, 54.8, 65.1, 71.0, 78.8, 76.7, 68.8, 58.0, 43.9, 41.5]\n",
    "\n",
    "months = range(1, 13)\n",
    "plot(months, nyc_temp_2000, months, nyc_temp_2006, months, nyc_temp_2012)\n",
    "from pylab import legend, plot, show, xlabel, ylabel, title\n",
    "legend([2000, 2006, 2012])\n",
    "title('average temperatue in New York City for years 2000, 2006 and 2012')\n",
    "xlabel('months')\n",
    "ylabel('Temperature')\n",
    "show()\n"
   ]
  },
  {
   "cell_type": "code",
   "execution_count": null,
   "metadata": {},
   "outputs": [],
   "source": []
  }
 ],
 "metadata": {
  "kernelspec": {
   "display_name": "Python 3",
   "language": "python",
   "name": "python3"
  },
  "language_info": {
   "codemirror_mode": {
    "name": "ipython",
    "version": 3
   },
   "file_extension": ".py",
   "mimetype": "text/x-python",
   "name": "python",
   "nbconvert_exporter": "python",
   "pygments_lexer": "ipython3",
   "version": "3.7.0"
  }
 },
 "nbformat": 4,
 "nbformat_minor": 2
}
